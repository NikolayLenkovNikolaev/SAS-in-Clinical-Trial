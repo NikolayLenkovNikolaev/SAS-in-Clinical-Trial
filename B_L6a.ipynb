{
  "nbformat": 4,
  "nbformat_minor": 0,
  "metadata": {
    "colab": {
      "provenance": [],
      "authorship_tag": "ABX9TyMCux2X/2cXLdiT8tZMO37J",
      "include_colab_link": true
    },
    "kernelspec": {
      "name": "python3",
      "display_name": "Python 3"
    },
    "language_info": {
      "name": "python"
    }
  },
  "cells": [
    {
      "cell_type": "markdown",
      "metadata": {
        "id": "view-in-github",
        "colab_type": "text"
      },
      "source": [
        "<a href=\"https://colab.research.google.com/github/NikolayLenkovNikolaev/SAS-in-Clinical-Trial/blob/main/B_L6a.ipynb\" target=\"_parent\"><img src=\"https://colab.research.google.com/assets/colab-badge.svg\" alt=\"Open In Colab\"/></a>"
      ]
    },
    {
      "cell_type": "code",
      "execution_count": null,
      "metadata": {
        "id": "G_gXMDyG0vxo"
      },
      "outputs": [],
      "source": []
    },
    {
      "cell_type": "markdown",
      "source": [
        "# Regression models for correlated data.\n",
        "# Linear models for longitudinal data\n",
        "\n",
        "## Previous example\n",
        "Aim: To study the satisfaction of patients with their medical doctors’ treatments.\n",
        "\n",
        "fig-13\n",
        "\n",
        "- $\\sigma_e^2=1.0308$\n",
        "\n",
        "- $\\sigma_u^2 = 0.8422$\n",
        "\n",
        "- $ICC = \\frac{0.8422}{1.0308+0.8422} = 0.45=\\rho$\n",
        "\n",
        "```\n",
        "PROC MIXED DATA=MD;\n",
        "CLASS MD;\n",
        "MODEL Y= / SOLUTION;\n",
        "RANDOM INTERCEPT / SUBJECT=MD;\n",
        "QUIT\n",
        "```\n",
        "\n",
        "\n",
        "level 1: patient\n",
        "- $y_{ij} = \\alpha_i + e_{ij}$\n",
        "- $e_{ij} \\sim N(0, \\sigma_e^2)$\n",
        "\n",
        "Level 2: MD:\n",
        "- $\\alpha_i = \\alpha +u_i$\n",
        "- $u_i  \\sim N(0, \\sigma_u^2)$\n",
        "\n",
        "- i=cluster\n",
        "- j-subject\n",
        "\n",
        "\n",
        "## Compound symmetry covariance matrix\n",
        "Variance-covariance matrix: compound symmetry (CS)\n",
        "\n",
        "\n",
        "- fig 14\n",
        "\n",
        "```\n",
        "PROC MIXED DATA=MD;\n",
        "CLASS MD;\n",
        "MODEL Y= / SOLUTION;\n",
        "REPEATED / SUBJECT=MD TYPE=CS;\n",
        "QUIT;\n",
        "```\n",
        "\n",
        "```\n",
        "PROC MIXED DATA=MD;\n",
        "CLASS MD;\n",
        "MODEL Y= / SOLUTION;\n",
        "REPEATED / SUBJECT=MD TYPE=CS R RCORR;\n",
        "QUIT;\n",
        "```\n",
        "R: covariance matrix\n",
        "\n",
        "RCORR: correlation ICC matrix\n",
        "\n",
        "fig-15\n",
        "\n",
        "\n",
        "\n"
      ],
      "metadata": {
        "id": "KoeQ9NwU00Fa"
      }
    },
    {
      "cell_type": "markdown",
      "source": [
        "## Longitudinal data\n",
        "\n",
        "- multiple observations are collected from a single subject (the cluster is\n",
        "the subject himself) (longitudinal or repeated measures data)\n",
        "\n",
        "## Longitudinal Data / Repeated Measures\n",
        "\n",
        "```\n",
        "PROC SGPANEL DATA=T1;\n",
        "PANELBY TREAT PATIENT;\n",
        "SCATTER Y=Y X=TIME;\n",
        "RUN;\n",
        "\n",
        "```\n",
        "\n",
        "- fig 16\n",
        "\n",
        "\n",
        "```\n",
        "2\n",
        "3\n",
        "Independence Model\n",
        "Longitudinal Data / Repeated Measures\n",
        "PROC REG DATA=T1;\n",
        "MODEL Y=TREAT;\n",
        "QUIT;\n",
        "```\n",
        "\n",
        "\n",
        "TREATMENT IS A CLUSTER CONSTANT COVARIATE\n",
        "\n",
        "- fig 17\n",
        "\n",
        "```\n",
        "PROC MIXED DATA=T1;\n",
        "CLASS PATIENT;\n",
        "MODEL Y=TREAT / SOLUTION;\n",
        "RANDOM PATIENT;\n",
        "RUN;\n",
        "```\n",
        "\n",
        "\n",
        "- $\\sigma_e^2= 0.1087$\n",
        "\n",
        "- $\\sigma_u^2 = 0.7847$\n",
        "\n",
        "- $ICC = \\frac{0.7847}{0.1087+0.7847} = 0.88=\\rho$\n",
        "\n",
        "```\n",
        "PROC MIXED DATA=T1;\n",
        "CLASS PATIENT;\n",
        "MODEL Y=TREAT / SOLUTION;\n",
        "REPEATED / SUBJECT=PATIENT\n",
        "TYPE=CS R RCORR;\n",
        "RUN;\n",
        "```\n",
        "\n",
        "There are several ways a mixed model can be used to analyse repeated\n",
        "measures data.\n",
        "\n",
        "The simplest approach is to use a model with patient effects fitted as\n",
        "random (random intercepts model). This will allow for a constant\n",
        "correlation between all observations on the same patient.\n",
        "\n",
        "Exchangeable or Compound Symmetry (CS) Correlation Structure\n",
        "Every observation within an individual is equally correlated with every other\n",
        "observation in that individual.\n",
        "\n",
        "fig-18\n",
        "\n",
        "Often the correlation between observations on the same patient is not\n",
        "constant. For example, correlation may decrease as visits become more\n",
        "widely separated in time.\n",
        "\n",
        "First order Auto-Regressive - AR(1) - Correlation Structure\n",
        "Two observations taken close in time (or space) within an individual tend to be\n",
        "more correlated than two observations take far apart in the same individual\n",
        "\n",
        "- fig 18 -left\n",
        "\n",
        "## Which covariance pattern to consider?\n",
        "\n",
        "There are many covariance patterns available and choosing the most\n",
        "appropriate is not always easy.\n",
        "\n",
        "Mixed Models with different covariance patterns can be compared\n",
        "statistically using Likelihood Ratio Tests provided that they fit the same\n",
        "fixed effects and their covariance patterns are nested (e.g. a compound\n",
        "symmetry patterns is nested within a general structure pattern, but it is not\n",
        "nested with a first-order autoregressive pattern).\n",
        "If the covariance parameters in the models compared are not nested,\n",
        "Akaike’s criteria (AIC) could be used.\n",
        "\n",
        "```\n",
        "PROC MIXED DATA=AR1;\n",
        "CLASS PATIENT;\n",
        "MODEL Y=/ SOLUTION;\n",
        "REPEATED / SUBJECT=PATIENT TYPE=CS RCORR;\n",
        "RUN;\n",
        "PROC MIXED DATA=AR1;\n",
        "CLASS PATIENT;\n",
        "MODEL Y=/ SOLUTION;\n",
        "REPEATED / SUBJECT=PATIENT TYPE=AR(1) RCORR;\n",
        "RUN;\n",
        "\n",
        "PROC SGPANEL DATA=AR1;\n",
        "PANELBY PATIENT;\n",
        "SCATTER Y=Y X=TIME;\n",
        "RUN;\n",
        "```\n",
        "\n",
        "fig 19\n",
        "\n",
        "## Within-Subject Varying Covariates\n",
        "\n",
        "Now we want estimate the effect of time on the outcome.\n",
        "\n",
        "Repeated measures are taken at different time points on the same subject.\n",
        "\n",
        "In this situation, the effect of interest (TIME) varies within subject.\n",
        "\n",
        "If we have only two measures per subject (e.g., before and after an\n",
        "intervention), we know that using a t-test for independent sample (that is\n",
        "ignoring correlation within subject) would lead us a variance estimate of the\n",
        "effect of interest that is too large (a test based on high-variance estimate will result in accepting the null hypothesis of no time effect too often).\n",
        "\n",
        "The appropriate analysis here is a t test for paired data.\n",
        "\n",
        "```\n",
        "DATA LONG(KEEP=SUBJ Y TIME);\n",
        "SET PESO;\n",
        "Y=PRIMA;TIME=0;OUTPUT;\n",
        "Y=DOPO;TIME=1;OUTPUT;\n",
        "RUN;\n",
        "PROC PRINT DATA=LONG;RUN;\n",
        "\n",
        "```\n",
        "\n",
        "Two independent sample t-test:\n",
        "- Diff=-3.46 s.e.: 8.53 p-value: 0.6866\n",
        "\n",
        "Paired data t-test\n",
        "- Diff=-3.46 s.e.: 1.07 p-value: 0.0028\n",
        "\n",
        "```\n",
        "PROC MIXED DATA=LONG;\n",
        "CLASS SUBJ;\n",
        "MODEL Y=TIME / SOLUTION;\n",
        "RANDOM INTERCEPT / SUBJECT=SUBJ;\n",
        "RUN;\n",
        "```\n",
        "\n",
        "\n",
        "The use of regression models for correlated data allow us to extend\n",
        "the previous analysis to more than two repeated measures on the\n",
        "same subject.\n",
        "\n",
        "\n"
      ],
      "metadata": {
        "id": "lsrvWfS600IJ"
      }
    },
    {
      "cell_type": "markdown",
      "source": [
        "## Within-Subject Varying Covariates\n",
        "\n",
        "Estimate of Time effect: Independence Model\n",
        "\n",
        "$y_{ij}= \\alpha + \\beta.TIME_{ij} +e_{ij}$\n",
        "\n",
        "$\\sigma_e^2 = 2.18$\n",
        "\n",
        "```\n",
        "PROC MIXED DATA=AR1;\n",
        "CLASS PATIENT;\n",
        "MODEL Y=TIME / SOLUTION;\n",
        "RANDOM INTERCEPT / SUBJECT=PATIENT SOLUTION;\n",
        "RUN;\n",
        "\n",
        "PROC MIXED DATA=AR1;\n",
        "CLASS PATIENT;\n",
        "MODEL Y=TIME / SOLUTION;\n",
        "RANDOM INTERCEPT / SUBJECT=PATIENT;\n",
        "RUN;\n",
        "/*SAME MODEL*/\n",
        "PROC MIXED DATA=AR1;\n",
        "CLASS PATIENT;\n",
        "MODEL Y=TIME / SOLUTION;\n",
        "REPEATED / SUBJECT=PATIENT TYPE=CS RCORR;\n",
        "RUN;\n",
        "\n",
        "PROC MIXED DATA=AR1;\n",
        "CLASS PATIENT;\n",
        "MODEL Y=TIME / SOLUTION;\n",
        "REPEATED / SUBJECT=PATIENT TYPE=AR(1) RCORR;\n",
        "RUN;\n",
        "```\n",
        "\n",
        "\n",
        "## Within- and Between- Subject Varying Covariates\n",
        "\n",
        "Estimate of Time´Treatment effect: Independence Mode\n",
        "\n",
        "$y_{ij} = \\alpha +\\beta.TIME_{ij} +\\gamma.Y_{ij}+\\delta.TIME_{ij}.T_{ij} +e_{ij}$\n",
        "\n",
        "```\n",
        "PROC MIXED DATA=TIMETREAT;\n",
        "CLASS TREAT;\n",
        "MODEL Y=TIME TREAT TIME*TREAT / SOLUTION;\n",
        "RUN;\n",
        "```\n"
      ],
      "metadata": {
        "id": "6DCcaZOD00Kc"
      }
    },
    {
      "cell_type": "markdown",
      "source": [
        "## Other issues in the analysis of correlated data\n",
        "- Unbalanced data and missing data\n",
        "- Estimation methods (ML, REML, PQL, etc.)\n",
        "- More than two levels in the data hierarchy\n",
        "- binary outcomes and count data – (Generalized Linear Mixed Models –\n",
        "PROC GLIMMIX in SAS)\n",
        "- Bayesian approach\n",
        "- Software\n",
        "- Generalized Estimating Equation models (GEE)\n",
        "- Sample size estimation for clustered intervention studies\n",
        "- …\n",
        "\n"
      ],
      "metadata": {
        "id": "6DWUCi6I00M4"
      }
    },
    {
      "cell_type": "markdown",
      "source": [],
      "metadata": {
        "id": "tb3vFckw00PG"
      }
    },
    {
      "cell_type": "markdown",
      "source": [],
      "metadata": {
        "id": "qWFd3zks00Rq"
      }
    },
    {
      "cell_type": "markdown",
      "source": [],
      "metadata": {
        "id": "Z9G6KwZq00UA"
      }
    },
    {
      "cell_type": "markdown",
      "source": [],
      "metadata": {
        "id": "J8vUX54700Wt"
      }
    },
    {
      "cell_type": "markdown",
      "source": [],
      "metadata": {
        "id": "FRFfppjB00Yw"
      }
    },
    {
      "cell_type": "markdown",
      "source": [],
      "metadata": {
        "id": "AdS3LA9K00bO"
      }
    },
    {
      "cell_type": "markdown",
      "source": [],
      "metadata": {
        "id": "qXosEXOW00dS"
      }
    },
    {
      "cell_type": "markdown",
      "source": [],
      "metadata": {
        "id": "CLkNU0Xg00fw"
      }
    },
    {
      "cell_type": "markdown",
      "source": [],
      "metadata": {
        "id": "pF8Ilr7T00iE"
      }
    },
    {
      "cell_type": "markdown",
      "source": [],
      "metadata": {
        "id": "DeE47ltt00kj"
      }
    },
    {
      "cell_type": "markdown",
      "source": [],
      "metadata": {
        "id": "qePB-Hf400m-"
      }
    },
    {
      "cell_type": "markdown",
      "source": [],
      "metadata": {
        "id": "skyQHUDF00pi"
      }
    },
    {
      "cell_type": "markdown",
      "source": [],
      "metadata": {
        "id": "dAaorPN800sY"
      }
    }
  ]
}