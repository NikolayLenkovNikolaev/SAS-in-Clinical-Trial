{
  "nbformat": 4,
  "nbformat_minor": 0,
  "metadata": {
    "colab": {
      "provenance": [],
      "authorship_tag": "ABX9TyOtj765yfoAd52n1rw0vMzm",
      "include_colab_link": true
    },
    "kernelspec": {
      "name": "python3",
      "display_name": "Python 3"
    },
    "language_info": {
      "name": "python"
    }
  },
  "cells": [
    {
      "cell_type": "markdown",
      "metadata": {
        "id": "view-in-github",
        "colab_type": "text"
      },
      "source": [
        "<a href=\"https://colab.research.google.com/github/NikolayLenkovNikolaev/SAS-in-Clinical-Trial/blob/main/B_L6.ipynb\" target=\"_parent\"><img src=\"https://colab.research.google.com/assets/colab-badge.svg\" alt=\"Open In Colab\"/></a>"
      ]
    },
    {
      "cell_type": "code",
      "execution_count": null,
      "metadata": {
        "id": "X-rYSXfVjJji"
      },
      "outputs": [],
      "source": [
        "\n",
        "\n"
      ]
    },
    {
      "cell_type": "markdown",
      "source": [
        "# Regression models for correlated data.\n",
        "# Linear models for clustered data\n",
        "- Linear regression analysis is the basic tool of statistical modeling.\n",
        "- This technique assumes that residuals are independent and identically\n",
        "distributed Normal random variables.\n",
        "\n",
        "- Independence assumption:\n",
        "  - snowing the value of $e_j$ for one observation would not help us to quess the value of $e_j^8$ in another observation.\n",
        "  - $y_j= \\alpha + \\beta.X_j + e_j$\n",
        "  - $E(e_j)= 0$\n",
        "  - $e_j \\sim N(0. \\sigma_e^2)$\n",
        "  - $var(y_i|\\alpha, \\beta, X)= \\sigma_e^2$\n",
        "\n",
        "\n",
        "## Correlated data\n",
        "\n",
        "Often this asumption does not hold: i.e. $e_j$ ic correlated to $e_j^*$\n",
        "- th=wins ,siblings or subjects belonging to the same family.\n",
        "- patients treated in the same center\n",
        "- repeted measures taken on the same subject at different time points\n",
        "\n",
        "$cov(e_j, e_j^*)= 0$\n",
        "\n",
        "Correlated data occur when:\n",
        "- single observations are collected on subjects. The subjects are clustered\n",
        "together in groups (clustered, hierarchical or multilevel data)\n",
        "- multiple observations are collected from a single subject (the cluster is the\n",
        "subject himself) (longitudinal or repeated measures data)\n",
        "\n",
        "Clustered data:\n",
        "- If clustered data are treated as if they were independent, the wrong standard\n",
        "errors, incorrect confidence intervals and the wrong p-values are obtained for\n",
        "the measures of interest.\n",
        "- Confidence intervals may be too narrow or too wide, depending on whether the\n",
        "factor of interest varies between or within clusters. Therefore, p-values may be\n",
        "too small or too large.\n",
        "- In order to make a correct inference, it is necessary to estimate the degree\n",
        "of correlation present in the data.\n",
        "- Regression models for clustered data are tools which permit to relax the\n",
        "independence assumption and to take into account more complicated data\n",
        "structures in a flexible way.\n",
        "\n",
        "Example:\n",
        "- AIM: To study the satisfaction of patients with their medical doctors’ treatments.\n",
        "A two-stage sample is used since it is cheaper than selecting patients at random.\n",
        "- fig 1\n",
        "\n",
        "```\n",
        "FILENAME REFFILE '/home/u50340329/00.University/Bagnaridi/data/MD.xlsx';\n",
        "\n",
        "PROC IMPORT DATAFILE=REFFILE\n",
        "\tDBMS=XLSX\n",
        "\tOUT=WORK.MD;\n",
        "\tGETNAMES=YES;\n",
        "RUN;\n",
        "\n",
        "/*NAIVE ANALYSIS*/\n",
        "PROC MEANS DATA=MD MEAN STDDEV STDERR CLM;\n",
        "VAR Y;\n",
        "RUN;\n",
        "```\n",
        "\n",
        "StdDev and StdEtrror\n",
        "\n",
        "$\\frac{\\sigma_e}{\\sqrt{N}}$\n",
        "\n",
        "## Effective sample size:\n",
        "If we ignore the potential correlation among patients within medical doctors (some doctors could have more satisfied patients than the others), we will estimate the standard error of the mean satisfaction as $\\frac{\\sigma_e}{\\sqrt{N}}$ -> Here we assume that each data point contains one data point's worth of\n",
        "information. However, if the data are correlated, then each data point contains\n",
        "less than one data point's worth of information.\n",
        "\n",
        "Effective sample size: rappresents eessentially how many piece of uncorrelated information the sample would compare.\n",
        "\n",
        "If we knew the intraclass Correlation Coefficient- ICC or $\\rho$, the effective sample size could be estimated as $N_{eff}= N . \\frac{1}{1+(k-1).\\rho}$ with k-the number of patients per clusted. The st/error of the mean satisfaction will therefore be $\\frac{\\sigma_e}{\\sqrt{N_{eff}}}$\n",
        "\n",
        "- fig - 2\n",
        "\n",
        "- fig 3\n",
        "\n",
        "Adjusted interval estimate with $\\rho=0.45(k=5)$\n",
        "\n",
        "$N_{eff} = N.\\frac{1}{1+(k-1)/\\rho} = 15.\\frac{1}{1+(5-1).0.45}= 5.35$\n",
        "\n",
        "$SE_{adjusted} = 1.278/ \\sqrt{5.35}= 0.55$\n",
        "\n",
        "\n",
        "To clarify the idea of the “effective sample size”, we could use the responses of a person’s left and right eyes to the same treatment.\n",
        "If these have a correlation of 0.54, then 200 eyes, two from each of 100 persons,contribute the “statistical equivalent” of one-eye contributions from each of 130 persons (200 ´ 1/(1 + 0.54) = 130). The closer the correlation is to 1, the closer the effective sample size is to 100\n",
        "\n",
        "Sample size considerations for study with correlated data often rely on the idea of the effective sample size.\n",
        "\n",
        "- fig-4\n",
        "\n",
        "## How t estimate $\\rho$ ?\n",
        "\n",
        "$\\frac{\\sigma_u^2}{\\sigma_e^2} +\\sigma_u^2$\n",
        "- $\\sigma_u^2$ - between clustr variance\n",
        "- $\\sigma_e^2$ - residual variance\n",
        "\n",
        "- fig- 5\n",
        "\n",
        "The higher the variance within the clusters (residual variance), the lower the variance between the clusters and the lower the ICC ($\\rho$)\n",
        "\n",
        "- $\\sigma_e^2[a] > \\sigma_e^2[b] > \\sigma_e^2[c]$\n",
        "\n",
        "- $\\sigma_u^2[a] < \\sigma_u^2[b] < \\sigma_u^2[c]$\n",
        "\n",
        "- $\\rho(a) < \\rho(b) < \\rho(c)$\n",
        "\n",
        "\n",
        "## Mixed Model:\n",
        "\n",
        "Mixed (random and fixed effects) regression models (also known as multilevel\n",
        "or hierarchical models) explicitly model and estimate the between-cluster\n",
        "variation and incorporate this, and the residual variance, into standard errors of the regression parameters.\n",
        "- fig 6\n",
        "\n",
        "$\\sigma_e^2 =1.0308$\n",
        "\n",
        "$\\sigma_u^2= 0.8422$\n",
        "\n",
        "$ICC =\\frac{0.8422}{1.0308 + 0.8422}= 0.45=\\rho$\n",
        "\n",
        "## Random Effects : Estimation Iterative Process\n",
        "\n",
        "fig 7\n",
        "\n",
        "\n",
        "\n",
        "PROC MIXED:\n",
        "\n",
        "```\n",
        "PROC MIXED DATA=MD;\n",
        "CLASS MD;\n",
        "MODEL Y= / SOLUTION;\n",
        "RANDOM INTERCEPT / SUBJECT=MD;\n",
        "RUN;\n",
        "QUIT;\n",
        "```\n",
        "\n",
        "level 1: patient\n",
        "- $y_{ij} = \\alpha_i + e_{ij}$\n",
        "- $e_{ij} \\sim N(0, \\sigma_e^2)$\n",
        "\n",
        "Level 2: MD:\n",
        "- $\\alpha_i = \\alpha +u_i$\n",
        "- $u_i  \\sim N(0, \\sigma_u^2)$\n",
        "\n",
        "- i=cluster\n",
        "- j-subject\n",
        "\n",
        "```\n",
        "PROC MEANS DATA=MD MEAN STDDEV STDERR CLM;\n",
        "VAR Y;\n",
        "RUN;\n",
        "```\n",
        "fig-8\n",
        "\n",
        "std.error= naive, biased, estimate\n",
        "\n",
        "\n"
      ],
      "metadata": {
        "id": "MF8tig7Rjnqt"
      }
    },
    {
      "cell_type": "markdown",
      "source": [
        "## SImulazione:\n",
        "\n",
        "Cosa significa dire che i dati sono correlati?\n",
        "\n",
        "In questo contesto vuol dire che due pazienti presi a caso e in cura dallo stesso medico sono più simili tra loro rispetto a due pazienti presi a caso e in cura da due medici diversi.\n",
        "\n",
        "In altri termini, c'è una componente data dall'effetto 'medico' che rende più simile i due pazienti.\n",
        "\n",
        "Questa componente viene definita effetto casuale perché i medici sono un\n",
        "campione di tutti i medici, non esauriscono la popolazione dei medici.\n",
        "\n",
        "Inoltre, non siamo interessati a stimare l'effetto singolo del medico, ma\n",
        "semplicemente vorremmo tenere conto della correlazione tra osservazioni che\n",
        "questo effetto dà.\n",
        "\n",
        "Proviamo a simulare dei dati che abbiano un tipo di struttura simile a quella vista nell'esempio.\n",
        "\n",
        "```\n",
        "DATA MEDICI;\n",
        "CALL STREAMINIT(3567);\n",
        "DO MEDICO=1 TO 100;\n",
        "U=RAND(\"NORMAL\",0,2);\n",
        "DO PAZIENTE=1 TO 20;\n",
        "Y=1+U+RAND(\"NORMAL\",0,4);\n",
        "OUTPUT;\n",
        "END;\n",
        "END;\n",
        "RUN;\n",
        "```\n",
        "\n",
        "$\\sigma_e^2 = 4^2 = 16$\n",
        "\n",
        "$\\sigma_u^2= 2^2 = 4$\n",
        "\n",
        "$ICC = 4/ (16+4)= 4/20=0.2$\n",
        "\n",
        "Verifichiamo che il coefficiente correlazione intraclasse stimato con la PROC\n",
        "MIXED approssima il valore ipotizzato nella simulazione:\n",
        "\n",
        "```\n",
        "PROC MIXED DATA=MEDICI;\n",
        "CLASS MEDICO;\n",
        "MODEL Y= / SOLUTION;\n",
        "RANDOM INTERCEPT / SUBJECT=MEDICO;\n",
        "RUN;\n",
        "QUIT;\n",
        "```\n",
        "\n",
        "\n",
        "$\\sigma_e^2 = 4^2 = 16.21$\n",
        "\n",
        "$\\sigma_u^2= 2^2 = 4.83$\n",
        "\n",
        "$ICC = 4/ (16+4)= 4/20=0.23$\n",
        "\n",
        "fig -9\n",
        "\n"
      ],
      "metadata": {
        "id": "tNxKhOyXjntO"
      }
    },
    {
      "cell_type": "markdown",
      "source": [
        "## Clustered randomized clinical trials\n",
        "\n",
        "Clustered randomized clinical trials are conducted in several areas of\n",
        "intervention research, where treatments are randomly assigned to clusters (e.g.\n",
        "the subjects in the same clinic receive the same treatment).\n",
        "Under this type of design, the assumption of independence of observations\n",
        "within cluster may not hold because the subjects share the clinical\n",
        "characteristics.\n",
        "\n",
        "## Cluster-Constant covariates\n",
        "\n",
        "A Cluster-constant covariate has the same value for all the units in the cluster.\n",
        "In this example, treatment is a Cluster-constant covariate.\n",
        "\n",
        "- fig-10\n",
        "\n",
        "```\n",
        "PROC SGPLOT DATA=CC;\n",
        "XAXIS INTEGER OFFSETMIN=0.1 OFFSETMAX=0.1 ;\n",
        "SCATTER X=TREAT Y=Y / GROUP=CENTER;\n",
        "REG X=TREAT Y=Y / NOMARKERS;\n",
        "RUN;\n",
        "\n",
        "\n",
        "PROC REG DATA=CC;\n",
        "MODEL Y=TREAT;\n",
        "RUN;QUIT;\n",
        "```\n",
        "\n",
        "$\\sigma_e^2 = 1.27^2= 1.61$\n",
        "\n",
        "$S.E(\\beta)= \\sqrt{\\frac{\\sigma_e^2}{N_0} +\\frac{\\sigma_e^2}{N_1}}= \\sqrt{\\frac{1.61}{8} +\\frac{1.61}{8}} = 0.64$\n",
        "\n",
        "If we assume that thr $ICC(\\rho)= 0.42$ we have:\n",
        "\n",
        "$N_{0-eff}= 8. \\frac{1}{1+(4-1).042}= 3.54$\n",
        "\n",
        "$N_{1-eff}= 8. \\frac{1}{1+(4-1).042}= 3.54$\n",
        "\n",
        "$S.E(\\beta)= \\sqrt{\\frac{\\sigma_e^2}{N_0} +\\frac{\\sigma_e^2}{N_1}}= \\sqrt{\\frac{1.61}{3.54} +\\frac{1.61}{3.54}} = 0.96$\n",
        "\n",
        "Mixed Model:\n",
        "$y_{ij}= \\alpha +\\beta.T_{ij} +u_i +r_{ij}$\n",
        "- $\\beta.T_{ij}$ - fixed effect\n",
        "- $u_i$ = random effect\n",
        "\n",
        "```\n",
        "PROC MIXED DATA=CC;\n",
        "CLASS CENTER;\n",
        "MODEL Y=TREAT / SOLUTION;\n",
        "RANDOM INTERCEPT / SUBJECT=CENTER;\n",
        "RUN;\n",
        "```\n",
        "\n",
        "level 1: patient\n",
        "- $y_{ij} = \\alpha_i + \\beta.T_{ij} + e_{ij}$\n",
        "- $e_{ij} \\sim N(0, \\sigma_e^2)$\n",
        "\n",
        "Level 2: MD:\n",
        "- $\\alpha_i = \\alpha +u_i$\n",
        "- $u_i  \\sim N(0, \\sigma_u^2)$\n",
        "\n",
        "- i=cluster\n",
        "- j-subject\n",
        "\n",
        "\n",
        "Mixed model:\n",
        "- $\\sigma_e^2$= 1.14\n",
        "- $\\sigma_u$^2 = 0.83\n",
        "\n",
        "- $ICC= \\frac{0.83}{1.14+0.83}= 0.42=\\rho$\n",
        "\n"
      ],
      "metadata": {
        "id": "dm6TO_Vkjnvc"
      }
    },
    {
      "cell_type": "markdown",
      "source": [
        "## Cluster-Constant covariates\n",
        "\n",
        "If observations are positively correlated then the variance of the\n",
        "estimated treatment effect will be underestimated if the data are\n",
        "analyzed as though all observations are independent ($\\rho$ = 0).\n",
        "\n",
        "## Cluster-Varying covariates\n",
        "A Cluster-varying covariate varies across the units within each cluster.\n",
        "In this example, treatment is a Cluster-varying covariate.\n",
        "\n",
        "- fig-11\n",
        "\n",
        "```\n",
        "PROC REG DATA=CV;\n",
        "MODEL Y=TREAT;\n",
        "RUN;QUIT\n",
        "```\n",
        "\n",
        "\n",
        "$\\sigma_e^2= 2.47$\n",
        "\n",
        "```\n",
        "PROC MIXED DATA=CV;\n",
        "CLASS CENTER;\n",
        "MODEL Y=TREAT / SOLUTION CL;\n",
        "RANDOM INTERCEPT / SUBJECT=CENTER;\n",
        "RUN;\n",
        "````\n",
        "\n",
        "\n",
        "Mixed model:\n",
        "- $\\sigma_e^2$= 0.21\n",
        "- $\\sigma_u$^2 = 2.83\n",
        "\n",
        "- $ICC= \\frac{2.83}{2.83+0.21}= 0.93=\\rho$\n",
        "\n",
        "\n",
        "If observations are positively correlated then the variance of the\n",
        "estimated time effect will be overestimated if the data are analyzed as\n",
        "though all observations are independent ($\\rho$ = 0).\n",
        "\n",
        "\n",
        "In contrast to mixed model, fixed effects regression includes clusters\n",
        "as fixed effects (i.e. the n clusters are represented by n-1 dummy\n",
        "variables)\n",
        "\n",
        "Fixed effects model with clusters as dummy variables:\n",
        "\n",
        "$Y_{ij} = \\alpha + \\beta_1 . T_{ij} + \\beta_2 .DummyCluster_{ij} + \\beta_3.DummyCluster_{2j} + ..+ \\beta_n.DummyCluster_{m-1,j} +e_{ij}$\n",
        "\n",
        "$e_{ij} \\sim(0, \\sigma^2)$\n",
        "\n",
        "[i, cluster, j subject]\n",
        "\n",
        "2 treatment and n clusters: 1+(n-1) fixed effect\n",
        "\n",
        "```\n",
        "PROC MIXED DATA=CV;\n",
        "CLASS CENTER;\n",
        "MODEL Y=TREAT CENTER / SOLUTION CL;\n",
        "RUN;\n",
        "\n",
        "```\n",
        "\n",
        "fig-12\n",
        "\n",
        "Summary:\n",
        "\n",
        "Comparison of traditional models to the Mixed model with respect to estimated\n",
        "Standard Error (S.E. ($\\beta$) of the effect of interest (e.g. a binary treatment),\n",
        "assuming equal cluster sizes.\n",
        "\n",
        "|Type of covariate|Independence model|Fixed Effect(ie.cluster as dummy variables)|Mixed Model (ie. cluster as random effect)|\n",
        "|---|---|---|---|\n",
        "|Clustr-constant(e.g. a treatment randomized at cluster level)|Biased - underestimated|Biased-underestimated|Correct|\n",
        "|CLuster-varying(e.ga treament randomized at partient level)|Biased(overestimated)|Correct|Correcty|\n",
        "\n"
      ],
      "metadata": {
        "id": "QENytGDkjnx4"
      }
    },
    {
      "cell_type": "markdown",
      "source": [],
      "metadata": {
        "id": "FAqNLkYvjn0H"
      }
    },
    {
      "cell_type": "markdown",
      "source": [],
      "metadata": {
        "id": "mfA_f9YPjn2S"
      }
    },
    {
      "cell_type": "markdown",
      "source": [],
      "metadata": {
        "id": "U9GmXVRzjn4o"
      }
    },
    {
      "cell_type": "markdown",
      "source": [],
      "metadata": {
        "id": "3cPXsj2Ojn60"
      }
    },
    {
      "cell_type": "markdown",
      "source": [],
      "metadata": {
        "id": "QruVE-Fvjn9C"
      }
    },
    {
      "cell_type": "markdown",
      "source": [],
      "metadata": {
        "id": "UI3bk9VAjn_e"
      }
    },
    {
      "cell_type": "markdown",
      "source": [],
      "metadata": {
        "id": "cDocoJLyjoB0"
      }
    },
    {
      "cell_type": "markdown",
      "source": [],
      "metadata": {
        "id": "xh60ZPgSjoES"
      }
    },
    {
      "cell_type": "markdown",
      "source": [],
      "metadata": {
        "id": "KyESBXTPjoGu"
      }
    },
    {
      "cell_type": "markdown",
      "source": [],
      "metadata": {
        "id": "uYwtYfYPjoI-"
      }
    },
    {
      "cell_type": "markdown",
      "source": [],
      "metadata": {
        "id": "iq1OZ8_0joLY"
      }
    },
    {
      "cell_type": "markdown",
      "source": [],
      "metadata": {
        "id": "tLawNKedjoNk"
      }
    },
    {
      "cell_type": "markdown",
      "source": [],
      "metadata": {
        "id": "0Jw3v5TQjoS8"
      }
    },
    {
      "cell_type": "markdown",
      "source": [],
      "metadata": {
        "id": "CMKp57HmjoVd"
      }
    },
    {
      "cell_type": "markdown",
      "source": [],
      "metadata": {
        "id": "OrOOOTOrjoXz"
      }
    },
    {
      "cell_type": "markdown",
      "source": [],
      "metadata": {
        "id": "afrk738MjoaM"
      }
    },
    {
      "cell_type": "markdown",
      "source": [],
      "metadata": {
        "id": "RrXF3JZWjocx"
      }
    }
  ]
}